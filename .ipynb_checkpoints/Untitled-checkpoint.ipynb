{
 "cells": [
  {
   "cell_type": "code",
   "execution_count": 2,
   "id": "0e0853b9",
   "metadata": {},
   "outputs": [],
   "source": [
    "#1. Import the NUMPY package under the name np.\n",
    "import numpy as np"
   ]
  },
  {
   "cell_type": "code",
   "execution_count": 3,
   "id": "a064b506",
   "metadata": {},
   "outputs": [
    {
     "name": "stdout",
     "output_type": "stream",
     "text": [
      "1.21.5\n",
      "blas_mkl_info:\n",
      "    libraries = ['mkl_rt']\n",
      "    library_dirs = ['C:/Users/Ari/anaconda3\\\\Library\\\\lib']\n",
      "    define_macros = [('SCIPY_MKL_H', None), ('HAVE_CBLAS', None)]\n",
      "    include_dirs = ['C:/Users/Ari/anaconda3\\\\Library\\\\include']\n",
      "blas_opt_info:\n",
      "    libraries = ['mkl_rt']\n",
      "    library_dirs = ['C:/Users/Ari/anaconda3\\\\Library\\\\lib']\n",
      "    define_macros = [('SCIPY_MKL_H', None), ('HAVE_CBLAS', None)]\n",
      "    include_dirs = ['C:/Users/Ari/anaconda3\\\\Library\\\\include']\n",
      "lapack_mkl_info:\n",
      "    libraries = ['mkl_rt']\n",
      "    library_dirs = ['C:/Users/Ari/anaconda3\\\\Library\\\\lib']\n",
      "    define_macros = [('SCIPY_MKL_H', None), ('HAVE_CBLAS', None)]\n",
      "    include_dirs = ['C:/Users/Ari/anaconda3\\\\Library\\\\include']\n",
      "lapack_opt_info:\n",
      "    libraries = ['mkl_rt']\n",
      "    library_dirs = ['C:/Users/Ari/anaconda3\\\\Library\\\\lib']\n",
      "    define_macros = [('SCIPY_MKL_H', None), ('HAVE_CBLAS', None)]\n",
      "    include_dirs = ['C:/Users/Ari/anaconda3\\\\Library\\\\include']\n",
      "Supported SIMD extensions in this NumPy install:\n",
      "    baseline = SSE,SSE2,SSE3\n",
      "    found = SSSE3,SSE41,POPCNT,SSE42,AVX,F16C,FMA3,AVX2\n",
      "    not found = AVX512F,AVX512CD,AVX512_SKX,AVX512_CLX,AVX512_CNL\n",
      "None\n"
     ]
    }
   ],
   "source": [
    "#2. Print the NUMPY version and the configuration.\n",
    "import numpy as np\n",
    "print(np.__version__)\n",
    "print(np.show_config())"
   ]
  },
  {
   "cell_type": "code",
   "execution_count": 4,
   "id": "debf4e40",
   "metadata": {},
   "outputs": [
    {
     "name": "stdout",
     "output_type": "stream",
     "text": [
      "[[[0.36838745 0.88433781 0.28795954 0.77302217 0.8191838 ]\n",
      "  [0.84656848 0.67463785 0.99895568 0.38975257 0.36358375]\n",
      "  [0.57704281 0.91380746 0.65156432 0.11248706 0.11965269]]\n",
      "\n",
      " [[0.42641702 0.63169988 0.42555702 0.78276294 0.02494557]\n",
      "  [0.43280424 0.25144042 0.06209602 0.43552501 0.42352634]\n",
      "  [0.30417284 0.21179402 0.88136881 0.50166064 0.79721154]]]\n"
     ]
    }
   ],
   "source": [
    "#3. Generate a 2x3x5 3-dimensional array with random values. Assign the array to variable \"a\"\n",
    "# Challenge: there are at least three easy ways that use numpy to generate random arrays. How many ways can you find?\n",
    "a=np.random.random((2, 3, 5))\n",
    "print(a)"
   ]
  },
  {
   "cell_type": "code",
   "execution_count": 5,
   "id": "d0489902",
   "metadata": {},
   "outputs": [
    {
     "name": "stdout",
     "output_type": "stream",
     "text": [
      "[[[15 59  1 60 75]\n",
      "  [71 34 68 54 80]\n",
      "  [ 9 94 15 63 11]]\n",
      "\n",
      " [[60 14 67 54 13]\n",
      "  [25  0 94 40 15]\n",
      "  [37 20 80 47 65]]]\n"
     ]
    }
   ],
   "source": [
    "a2= np.random.randint(0, 100, size=(2, 3, 5))\n",
    "print(a2)"
   ]
  },
  {
   "cell_type": "code",
   "execution_count": null,
   "id": "3a181b9d",
   "metadata": {},
   "outputs": [],
   "source": []
  },
  {
   "cell_type": "code",
   "execution_count": 12,
   "id": "a653b9cd",
   "metadata": {},
   "outputs": [
    {
     "data": {
      "text/plain": [
       "array([[[1, 1, 1],\n",
       "        [1, 1, 1]],\n",
       "\n",
       "       [[1, 1, 1],\n",
       "        [1, 1, 1]],\n",
       "\n",
       "       [[1, 1, 1],\n",
       "        [1, 1, 1]],\n",
       "\n",
       "       [[1, 1, 1],\n",
       "        [1, 1, 1]],\n",
       "\n",
       "       [[1, 1, 1],\n",
       "        [1, 1, 1]]])"
      ]
     },
     "execution_count": 12,
     "metadata": {},
     "output_type": "execute_result"
    }
   ],
   "source": [
    "#5. Create a 5x2x3 3-dimensional array with all values equaling 1.\n",
    "#Assign the array to variable \"b\"\n",
    "\n",
    "#6. Print b.\n",
    "\n",
    "b=np.ones((5,2,3),dtype=int)\n",
    "b"
   ]
  },
  {
   "cell_type": "code",
   "execution_count": 16,
   "id": "89917171",
   "metadata": {},
   "outputs": [
    {
     "data": {
      "text/plain": [
       "True"
      ]
     },
     "execution_count": 16,
     "metadata": {},
     "output_type": "execute_result"
    }
   ],
   "source": [
    "#7. Do a and b have the same size? How do you prove that in Python code?\n",
    "a.size==b.size"
   ]
  },
  {
   "cell_type": "code",
   "execution_count": 18,
   "id": "ab77f711",
   "metadata": {},
   "outputs": [
    {
     "ename": "ValueError",
     "evalue": "operands could not be broadcast together with shapes (2,3,5) (5,2,3) ",
     "output_type": "error",
     "traceback": [
      "\u001b[1;31m---------------------------------------------------------------------------\u001b[0m",
      "\u001b[1;31mValueError\u001b[0m                                Traceback (most recent call last)",
      "Input \u001b[1;32mIn [18]\u001b[0m, in \u001b[0;36m<cell line: 3>\u001b[1;34m()\u001b[0m\n\u001b[0;32m      1\u001b[0m \u001b[38;5;66;03m#8. Are you able to add a and b? Why or why not?\u001b[39;00m\n\u001b[1;32m----> 3\u001b[0m \u001b[43mnp\u001b[49m\u001b[38;5;241;43m.\u001b[39;49m\u001b[43madd\u001b[49m\u001b[43m(\u001b[49m\u001b[43ma\u001b[49m\u001b[43m,\u001b[49m\u001b[43mb\u001b[49m\u001b[43m)\u001b[49m\n",
      "\u001b[1;31mValueError\u001b[0m: operands could not be broadcast together with shapes (2,3,5) (5,2,3) "
     ]
    }
   ],
   "source": [
    "#8. Are you able to add a and b? Why or why not?\n",
    "\n",
    "np.add(a,b)\n",
    "\n",
    "#Its not possible because they dont have the same dimesions: ValueError: operands could not be broadcast together with shapes (2,3,5) (5,2,3) "
   ]
  },
  {
   "cell_type": "code",
   "execution_count": 24,
   "id": "13a64b1d",
   "metadata": {},
   "outputs": [
    {
     "name": "stdout",
     "output_type": "stream",
     "text": [
      "[[[1 1 1 1 1]\n",
      "  [1 1 1 1 1]\n",
      "  [1 1 1 1 1]]\n",
      "\n",
      " [[1 1 1 1 1]\n",
      "  [1 1 1 1 1]\n",
      "  [1 1 1 1 1]]]\n"
     ]
    }
   ],
   "source": [
    "#9. Transpose b so that it has the same structure of a (i.e. become a 2x3x5 array). Assign the transposed array to varialbe \"c\".\n",
    "\n",
    "c=b.reshape(2,3,5)\n",
    "c.shape\n"
   ]
  },
  {
   "cell_type": "code",
   "execution_count": 25,
   "id": "93de1b8e",
   "metadata": {},
   "outputs": [
    {
     "data": {
      "text/plain": [
       "array([[[1.36838745, 1.88433781, 1.28795954, 1.77302217, 1.8191838 ],\n",
       "        [1.84656848, 1.67463785, 1.99895568, 1.38975257, 1.36358375],\n",
       "        [1.57704281, 1.91380746, 1.65156432, 1.11248706, 1.11965269]],\n",
       "\n",
       "       [[1.42641702, 1.63169988, 1.42555702, 1.78276294, 1.02494557],\n",
       "        [1.43280424, 1.25144042, 1.06209602, 1.43552501, 1.42352634],\n",
       "        [1.30417284, 1.21179402, 1.88136881, 1.50166064, 1.79721154]]])"
      ]
     },
     "execution_count": 25,
     "metadata": {},
     "output_type": "execute_result"
    }
   ],
   "source": [
    "#10. Try to add a and c. Now it should work. Assign the sum to varialbe \"d\". But why does it work now?\n",
    "\n",
    "d=np.add(a,c)\n",
    "d\n",
    "#Because now they have the same dimension"
   ]
  },
  {
   "cell_type": "code",
   "execution_count": 28,
   "id": "66bf5364",
   "metadata": {},
   "outputs": [
    {
     "name": "stdout",
     "output_type": "stream",
     "text": [
      "[[[0.36838745 0.88433781 0.28795954 0.77302217 0.8191838 ]\n",
      "  [0.84656848 0.67463785 0.99895568 0.38975257 0.36358375]\n",
      "  [0.57704281 0.91380746 0.65156432 0.11248706 0.11965269]]\n",
      "\n",
      " [[0.42641702 0.63169988 0.42555702 0.78276294 0.02494557]\n",
      "  [0.43280424 0.25144042 0.06209602 0.43552501 0.42352634]\n",
      "  [0.30417284 0.21179402 0.88136881 0.50166064 0.79721154]]]\n",
      "[[[1.36838745 1.88433781 1.28795954 1.77302217 1.8191838 ]\n",
      "  [1.84656848 1.67463785 1.99895568 1.38975257 1.36358375]\n",
      "  [1.57704281 1.91380746 1.65156432 1.11248706 1.11965269]]\n",
      "\n",
      " [[1.42641702 1.63169988 1.42555702 1.78276294 1.02494557]\n",
      "  [1.43280424 1.25144042 1.06209602 1.43552501 1.42352634]\n",
      "  [1.30417284 1.21179402 1.88136881 1.50166064 1.79721154]]]\n"
     ]
    }
   ],
   "source": [
    "#11. Print a and d. Notice the difference and relation of the two array in terms of the values? Explain.\n",
    "\n",
    "print(a)\n",
    "\n",
    "print(d)\n",
    "\n",
    "#the values of d are the result of the sum of both arrays, as we add 1, that's why 1 appears in all the values"
   ]
  },
  {
   "cell_type": "code",
   "execution_count": 29,
   "id": "5e092943",
   "metadata": {},
   "outputs": [
    {
     "data": {
      "text/plain": [
       "array([[[0.36838745, 0.88433781, 0.28795954, 0.77302217, 0.8191838 ],\n",
       "        [0.84656848, 0.67463785, 0.99895568, 0.38975257, 0.36358375],\n",
       "        [0.57704281, 0.91380746, 0.65156432, 0.11248706, 0.11965269]],\n",
       "\n",
       "       [[0.42641702, 0.63169988, 0.42555702, 0.78276294, 0.02494557],\n",
       "        [0.43280424, 0.25144042, 0.06209602, 0.43552501, 0.42352634],\n",
       "        [0.30417284, 0.21179402, 0.88136881, 0.50166064, 0.79721154]]])"
      ]
     },
     "execution_count": 29,
     "metadata": {},
     "output_type": "execute_result"
    }
   ],
   "source": [
    "#12. Multiply a and c. Assign the result to e.\n",
    "e=np.multiply(a,c)\n",
    "e"
   ]
  },
  {
   "cell_type": "code",
   "execution_count": 30,
   "id": "fa36ef50",
   "metadata": {},
   "outputs": [
    {
     "data": {
      "text/plain": [
       "array([[[ True,  True,  True,  True,  True],\n",
       "        [ True,  True,  True,  True,  True],\n",
       "        [ True,  True,  True,  True,  True]],\n",
       "\n",
       "       [[ True,  True,  True,  True,  True],\n",
       "        [ True,  True,  True,  True,  True],\n",
       "        [ True,  True,  True,  True,  True]]])"
      ]
     },
     "execution_count": 30,
     "metadata": {},
     "output_type": "execute_result"
    }
   ],
   "source": [
    "#13. Does e equal to a? Why or why not?\n",
    "e==a\n",
    "#Because we multiply by 1"
   ]
  },
  {
   "cell_type": "code",
   "execution_count": 32,
   "id": "0a1d4bd6",
   "metadata": {},
   "outputs": [
    {
     "name": "stdout",
     "output_type": "stream",
     "text": [
      "1.9989556834081252\n",
      "1.0249455710733288\n",
      "1.512464191525807\n"
     ]
    }
   ],
   "source": [
    "#14. Identify the max, min, and mean values in d. Assign those values to variables \"d_max\", \"d_min\", and \"d_mean\"\n",
    "d_max=d.max()\n",
    "print(d_max)\n",
    "\n",
    "d_min=d.min()\n",
    "print(d_min)\n",
    "\n",
    "d_mean=d.mean()\n",
    "print(d_mean)"
   ]
  },
  {
   "cell_type": "code",
   "execution_count": 34,
   "id": "d59c1984",
   "metadata": {},
   "outputs": [
    {
     "data": {
      "text/plain": [
       "array([[[0.36838745, 0.88433781, 0.28795954, 0.77302217, 0.8191838 ],\n",
       "        [0.84656848, 0.67463785, 0.99895568, 0.38975257, 0.36358375],\n",
       "        [0.57704281, 0.91380746, 0.65156432, 0.11248706, 0.11965269]],\n",
       "\n",
       "       [[0.42641702, 0.63169988, 0.42555702, 0.78276294, 0.02494557],\n",
       "        [0.43280424, 0.25144042, 0.06209602, 0.43552501, 0.42352634],\n",
       "        [0.30417284, 0.21179402, 0.88136881, 0.50166064, 0.79721154]]])"
      ]
     },
     "execution_count": 34,
     "metadata": {},
     "output_type": "execute_result"
    }
   ],
   "source": [
    "#15. Now we want to label the values in d. First create an empty array \"f\" with the same shape (i.e. 2x3x5) as d using `np.empty`.\n",
    "f=np.empty([2,3,5])\n",
    "f"
   ]
  },
  {
   "cell_type": "code",
   "execution_count": null,
   "id": "8cca3bb7",
   "metadata": {},
   "outputs": [],
   "source": [
    "#16. Populate the values in f. For each value in d, if it's larger than d_min but smaller than d_mean, assign 25 to the corresponding value in f.\n",
    "#If a value in d is larger than d_mean but smaller than d_max, assign 75 to the corresponding value in f.\n",
    "#If a value equals to d_mean, assign 50 to the corresponding value in f.\n",
    "#Assign 0 to the corresponding value(s) in f for d_min in d.\n",
    "#Assign 100 to the corresponding value(s) in f for d_max in d.\n",
    "#In the end, f should have only the following values: 0, 25, 50, 75, and 100.\n",
    "#Note: you don't have to use Numpy in this question."
   ]
  }
 ],
 "metadata": {
  "kernelspec": {
   "display_name": "Python 3 (ipykernel)",
   "language": "python",
   "name": "python3"
  },
  "language_info": {
   "codemirror_mode": {
    "name": "ipython",
    "version": 3
   },
   "file_extension": ".py",
   "mimetype": "text/x-python",
   "name": "python",
   "nbconvert_exporter": "python",
   "pygments_lexer": "ipython3",
   "version": "3.9.12"
  }
 },
 "nbformat": 4,
 "nbformat_minor": 5
}
